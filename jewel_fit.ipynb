{
 "cells": [
  {
   "cell_type": "code",
   "execution_count": 2,
   "metadata": {},
   "outputs": [
    {
     "name": "stderr",
     "output_type": "stream",
     "text": [
      "C:\\Users\\Barani\\Anaconda3\\lib\\site-packages\\h5py\\__init__.py:36: FutureWarning: Conversion of the second argument of issubdtype from `float` to `np.floating` is deprecated. In future, it will be treated as `np.float64 == np.dtype(float).type`.\n",
      "  from ._conv import register_converters as _register_converters\n",
      "Using TensorFlow backend.\n"
     ]
    },
    {
     "ename": "NameError",
     "evalue": "name 'get_train_data' is not defined",
     "output_type": "error",
     "traceback": [
      "\u001b[1;31m---------------------------------------------------------------------------\u001b[0m",
      "\u001b[1;31mNameError\u001b[0m                                 Traceback (most recent call last)",
      "\u001b[1;32m<ipython-input-2-9b114851a76c>\u001b[0m in \u001b[0;36m<module>\u001b[1;34m()\u001b[0m\n\u001b[0;32m      1\u001b[0m \u001b[1;32mimport\u001b[0m \u001b[0mnumpy\u001b[0m \u001b[1;32mas\u001b[0m \u001b[0mnp\u001b[0m\u001b[1;33m\u001b[0m\u001b[0m\n\u001b[1;32m----> 2\u001b[1;33m \u001b[1;32mfrom\u001b[0m \u001b[0mtraining\u001b[0m \u001b[1;32mimport\u001b[0m \u001b[0mget_model\u001b[0m\u001b[1;33m,\u001b[0m \u001b[0mload_trained_model\u001b[0m\u001b[1;33m,\u001b[0m \u001b[0mcompile_model\u001b[0m\u001b[1;33m\u001b[0m\u001b[0m\n\u001b[0m\u001b[0;32m      3\u001b[0m \u001b[1;32mimport\u001b[0m \u001b[0mcv2\u001b[0m\u001b[1;33m\u001b[0m\u001b[0m\n\u001b[0;32m      4\u001b[0m \u001b[1;32mfrom\u001b[0m \u001b[0mmatplotlib\u001b[0m \u001b[1;32mimport\u001b[0m \u001b[0mpyplot\u001b[0m \u001b[1;32mas\u001b[0m \u001b[0mplt\u001b[0m\u001b[1;33m\u001b[0m\u001b[0m\n\u001b[0;32m      5\u001b[0m \u001b[1;32mimport\u001b[0m \u001b[0mos\u001b[0m\u001b[1;33m\u001b[0m\u001b[0m\n",
      "\u001b[1;32m~\\Jupyter\\jewel_v1\\training.py\u001b[0m in \u001b[0;36m<module>\u001b[1;34m()\u001b[0m\n\u001b[0;32m     18\u001b[0m \u001b[1;33m\u001b[0m\u001b[0m\n\u001b[0;32m     19\u001b[0m \u001b[1;31m# Get the preprocessed train and test data\u001b[0m\u001b[1;33m\u001b[0m\u001b[1;33m\u001b[0m\u001b[0m\n\u001b[1;32m---> 20\u001b[1;33m \u001b[0mimgs_train\u001b[0m\u001b[1;33m,\u001b[0m \u001b[0mpoints_train\u001b[0m \u001b[1;33m=\u001b[0m \u001b[0mget_train_data\u001b[0m\u001b[1;33m(\u001b[0m\u001b[1;33m)\u001b[0m\u001b[1;33m\u001b[0m\u001b[0m\n\u001b[0m\u001b[0;32m     21\u001b[0m \u001b[0mimgs_test\u001b[0m \u001b[1;33m=\u001b[0m \u001b[0mget_test_data\u001b[0m\u001b[1;33m(\u001b[0m\u001b[1;33m)\u001b[0m\u001b[1;33m\u001b[0m\u001b[0m\n\u001b[0;32m     22\u001b[0m \u001b[1;33m\u001b[0m\u001b[0m\n",
      "\u001b[1;31mNameError\u001b[0m: name 'get_train_data' is not defined"
     ]
    }
   ],
   "source": [
    "import numpy as np\n",
    "from training import get_model, load_trained_model, compile_model\n",
    "import cv2\n",
    "from matplotlib import pyplot as plt\n",
    "import os"
   ]
  },
  {
   "cell_type": "code",
   "execution_count": null,
   "metadata": {},
   "outputs": [],
   "source": [
    "# Load the trained model\n",
    "model = get_model()\n",
    "compile_model(model)\n",
    "load_trained_model(model)"
   ]
  },
  {
   "cell_type": "code",
   "execution_count": null,
   "metadata": {},
   "outputs": [],
   "source": [
    "# Get frontal face haar cascade\n",
    "face_cascade = cv2.CascadeClassifier('cascades/haarcascade_frontalface_default.xml')"
   ]
  },
  {
   "cell_type": "code",
   "execution_count": null,
   "metadata": {},
   "outputs": [],
   "source": [
    "def matchJewel(personPath, jewelPath):\n",
    "    img = cv2.imread(personPath)\n",
    "    gray = cv2.cvtColor(img, cv2.COLOR_BGR2GRAY)        # Convert RGB data to Grayscale\n",
    "    faces = face_cascade.detectMultiScale(gray, 1.3, 5)     # Identify faces in image\n",
    "\n",
    "    for (x,y,w,h) in faces:\n",
    "        roi_gray = gray[y:y+h, x:x+w]\n",
    "        img_copy = np.copy(img)\n",
    "        img_copy_1 = np.copy(img)\n",
    "        roi_color = img_copy_1[y:y+h, x:x+w]\n",
    "\n",
    "        width_original = roi_gray.shape[1]      # Width of region where face is detected\n",
    "        height_original = roi_gray.shape[0]     # Height of region where face is detected\n",
    "        img_gray = cv2.resize(roi_gray, (96, 96))       # Resize image to size 96x96\n",
    "        img_gray = img_gray/255         # Normalize the image data\n",
    "\n",
    "        img_model = np.reshape(img_gray, (1,96,96,1))   # Model takes input of shape = [batch_size, height, width, no. of channels]\n",
    "        keypoints = model.predict(img_model)[0]         # Predict keypoints for the current input\n",
    "\n",
    "        # Keypoints are saved as (x1, y1, x2, y2, ......)\n",
    "        x_coords = keypoints[0::2]      # Read alternate elements starting from index 0\n",
    "        y_coords = keypoints[1::2]      # Read alternate elements starting from index 1\n",
    "\n",
    "        x_coords_denormalized = (x_coords+0.5)*width_original       # Denormalize x-coordinate\n",
    "        y_coords_denormalized = (y_coords+0.5)*height_original      # Denormalize y-coordinate\n",
    "\n",
    "        for i in range(len(x_coords)):          # Plot the keypoints at the x and y coordinates\n",
    "            cv2.circle(roi_color, (x_coords_denormalized[i], y_coords_denormalized[i]), 2, (255,255,0), -1)\n",
    "        plt.imshow(cv2.cvtColor(roi_color,cv2.COLOR_BGR2RGB))\n",
    "\n",
    "        # Particular keypoints for scaling and positioning of the filter\n",
    "        left_lip_coords = (int(x_coords_denormalized[11]), int(y_coords_denormalized[11]))\n",
    "        right_lip_coords = (int(x_coords_denormalized[12]), int(y_coords_denormalized[12]))\n",
    "        top_lip_coords = (int(x_coords_denormalized[13]), int(y_coords_denormalized[13]))\n",
    "        bottom_lip_coords = (int(x_coords_denormalized[14]), int(y_coords_denormalized[14]))\n",
    "        left_eye_coords = (int(x_coords_denormalized[3]), int(y_coords_denormalized[3]))\n",
    "        right_eye_coords = (int(x_coords_denormalized[5]), int(y_coords_denormalized[5]))\n",
    "        brow_coords = (int(x_coords_denormalized[6]), int(y_coords_denormalized[6]))\n",
    "\n",
    "        # Scale filter according to keypoint coordinates\n",
    "        beard_width = right_lip_coords[0] - left_lip_coords[0]\n",
    "        glasses_width = right_eye_coords[0] - left_eye_coords[0]\n",
    "\n",
    "        img_copy = cv2.cvtColor(img_copy, cv2.COLOR_BGR2BGRA)       # Used for transparency overlay of filter using the alpha channel\n",
    "\n",
    "        # Jewel filter\n",
    "        jewel_filter = cv2.imread(jewelPath, -1)\n",
    "        jewel_filter = cv2.resize(jewel_filter, (glasses_width*2,glasses_width*2))\n",
    "        sw,sh,sc = jewel_filter.shape\n",
    "\n",
    "        for i in range(0,sw):       # Overlay the filter based on the alpha channel\n",
    "            for j in range(0,sh):\n",
    "                if jewel_filter[i,j][3] != 0:\n",
    "                    img_copy[left_lip_coords[1]+int((left_lip_coords[1] -left_eye_coords[1])*.6)+i+y, left_lip_coords[0]-int((right_lip_coords[0] -left_lip_coords[0])*1.2)+j+x] = jewel_filter[i,j]\n",
    "        return img_copy"
   ]
  },
  {
   "cell_type": "code",
   "execution_count": null,
   "metadata": {},
   "outputs": [],
   "source": [
    "plt.figure(figsize=(20,10))\n",
    "plt.imshow(cv2.cvtColor(cv2.imread('jewel/t1.png'),cv2.COLOR_BGRA2RGB))"
   ]
  },
  {
   "cell_type": "code",
   "execution_count": null,
   "metadata": {},
   "outputs": [],
   "source": [
    "plt.figure(figsize=(20,10))\n",
    "plt.imshow(cv2.cvtColor(cv2.imread('jewel/t2.png'),cv2.COLOR_BGRA2RGB))"
   ]
  },
  {
   "cell_type": "code",
   "execution_count": null,
   "metadata": {},
   "outputs": [],
   "source": [
    "plt.figure(figsize=(20,10))\n",
    "plt.imshow(cv2.cvtColor(cv2.imread('jewel/t3.png'),cv2.COLOR_BGRA2RGB))"
   ]
  },
  {
   "cell_type": "code",
   "execution_count": null,
   "metadata": {},
   "outputs": [],
   "source": [
    "img_copy =  matchJewel('model/N1.jpg', 'jewel/t1.png')\n",
    "overlayed = cv2.cvtColor(img_copy, cv2.COLOR_BGRA2RGB)\n",
    "plt.figure(figsize=(40,20))\n",
    "plt.imshow(overlayed)"
   ]
  },
  {
   "cell_type": "code",
   "execution_count": null,
   "metadata": {},
   "outputs": [],
   "source": [
    "img_copy =  matchJewel('model/N1.jpg', 'jewel/t2.png')\n",
    "overlayed = cv2.cvtColor(img_copy, cv2.COLOR_BGRA2RGB)\n",
    "plt.figure(figsize=(40,20))\n",
    "plt.imshow(overlayed)"
   ]
  },
  {
   "cell_type": "code",
   "execution_count": null,
   "metadata": {},
   "outputs": [],
   "source": [
    "img_copy =  matchJewel('model/N1.jpg', 'jewel/t3.png')\n",
    "overlayed = cv2.cvtColor(img_copy, cv2.COLOR_BGRA2RGB)\n",
    "plt.figure(figsize=(40,20))\n",
    "plt.imshow(overlayed)"
   ]
  },
  {
   "cell_type": "code",
   "execution_count": null,
   "metadata": {},
   "outputs": [],
   "source": [
    "jewels = os.listdir('jewel')\n",
    "models = os.listdir('model')\n",
    "print(jewels, models)"
   ]
  },
  {
   "cell_type": "code",
   "execution_count": null,
   "metadata": {},
   "outputs": [],
   "source": [
    "f, axs = plt.subplots(len(models), len(jewels),figsize=(20,30))\n",
    "for j in range(len(jewels)):\n",
    "    for m in range(len(models)):\n",
    "        img = matchJewel('model/'+os.path.join(models[m]), 'jewel/'+os.path.join(jewels[j]))\n",
    "        axs[m,j].imshow(cv2.cvtColor(img, cv2.COLOR_BGRA2RGB))"
   ]
  },
  {
   "cell_type": "code",
   "execution_count": null,
   "metadata": {},
   "outputs": [],
   "source": []
  }
 ],
 "metadata": {
  "kernelspec": {
   "display_name": "Python 3",
   "language": "python",
   "name": "python3"
  },
  "language_info": {
   "codemirror_mode": {
    "name": "ipython",
    "version": 3
   },
   "file_extension": ".py",
   "mimetype": "text/x-python",
   "name": "python",
   "nbconvert_exporter": "python",
   "pygments_lexer": "ipython3",
   "version": "3.6.5"
  }
 },
 "nbformat": 4,
 "nbformat_minor": 2
}
